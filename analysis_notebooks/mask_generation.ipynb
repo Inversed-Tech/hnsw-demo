{
 "cells": [
  {
   "cell_type": "code",
   "execution_count": 7,
   "id": "8c749e6e-3ea4-45f2-8904-7205437b48fe",
   "metadata": {},
   "outputs": [],
   "source": [
    "# # Setup \n",
    "# ! pip install seaborn tqdm_joblib ndlib open-iris==1.0.0"
   ]
  },
  {
   "cell_type": "markdown",
   "id": "75ccb1f1-ddc4-440f-8b1f-20ce9223b32e",
   "metadata": {
    "jp-MarkdownHeadingCollapsed": true
   },
   "source": [
    "# Imports"
   ]
  },
  {
   "cell_type": "code",
   "execution_count": 8,
   "id": "43e6b538-973d-4b86-ba56-ee11df339184",
   "metadata": {},
   "outputs": [],
   "source": [
    "import numpy as np\n",
    "import pandas as pd\n",
    "import matplotlib.pyplot as plt\n",
    "import seaborn as sns\n",
    "from scipy.ndimage import gaussian_filter\n",
    "from joblib import Parallel, delayed\n",
    "from tqdm import tqdm"
   ]
  },
  {
   "cell_type": "code",
   "execution_count": 9,
   "id": "0830b535-cebe-4fd7-b09b-d62a4d4d20fc",
   "metadata": {},
   "outputs": [],
   "source": [
    "n_jobs = 4 # Fit to CPU\n",
    "DIM = (2, 32, 200)\n",
    "X, Y = DIM [1:]"
   ]
  },
  {
   "cell_type": "markdown",
   "id": "e6656c26-7641-4d77-a5b8-b749132698f4",
   "metadata": {
    "jp-MarkdownHeadingCollapsed": true
   },
   "source": [
    "# Constants"
   ]
  },
  {
   "cell_type": "code",
   "execution_count": 10,
   "id": "98ff9966-cf3b-4a02-b5d1-01906bf7efac",
   "metadata": {},
   "outputs": [],
   "source": [
    "conf_dict = {\n",
    "    'no_mask':{\n",
    "        'left':0.275,\n",
    "        'right':0.047,\n",
    "    },\n",
    "    'h_len':{\n",
    "        'left':{'mean':45, 'std':21, 'lower_lim':1, 'upper_lim':(Y//2)-1},\n",
    "        'right':{'mean':77, 'std':17, 'lower_lim':1, 'upper_lim':(Y//2)-1},\n",
    "    },\n",
    "    'h_center':{\n",
    "        'left':{'mean':51, 'std':15, 'lower_lim':1, 'upper_lim':(Y//2)-1},\n",
    "        'right':{'mean':49, 'std':3.6, 'lower_lim':1, 'upper_lim':(Y//2)-1},\n",
    "    },\n",
    "    'v_len':{\n",
    "        'left':{'mean':5.7, 'std':2.9, 'lower_lim':1, 'upper_lim':(X//2)-1},\n",
    "        'right':{'mean':11.1, 'std':3.8, 'lower_lim':1, 'upper_lim':(X//2)-1},\n",
    "    },    \n",
    "}\n",
    "true_mask = np.ones((X//2, Y//2), dtype=np.bool_)"
   ]
  },
  {
   "cell_type": "markdown",
   "id": "20c2b8f3-4415-41ea-8229-8661825783d6",
   "metadata": {
    "jp-MarkdownHeadingCollapsed": true
   },
   "source": [
    "# Functions"
   ]
  },
  {
   "cell_type": "code",
   "execution_count": 11,
   "id": "3dd887cd-a90a-4274-8a76-331e95c4c820",
   "metadata": {},
   "outputs": [],
   "source": [
    "def plot_boolean_iris(matrix, title=''):\n",
    "    plt.imshow(matrix, cmap='gray')\n",
    "    plt.title(title)\n",
    "    plt.show()"
   ]
  },
  {
   "cell_type": "code",
   "execution_count": 12,
   "id": "3224e589-fcae-4c12-b973-b0eeda9c206e",
   "metadata": {},
   "outputs": [],
   "source": [
    "def generate_normal_params(num_samples, mean, std, lower_lim, upper_lim):\n",
    "    return np.clip(np.random.normal(loc=mean, scale=std, size=num_samples), lower_lim, upper_lim)[0]"
   ]
  },
  {
   "cell_type": "code",
   "execution_count": 13,
   "id": "fb3bb45f-8fb2-4fa2-9e41-8ca6a73e9d27",
   "metadata": {},
   "outputs": [],
   "source": [
    "def generate_mask_part(h_center, v_len, h_len):\n",
    "    blob = np.zeros((X//2, Y//2))\n",
    "    blob[(X//2)-1, round(h_center)] = 1\n",
    "    sigma_x, sigma_y = (v_len / 3), (h_len / 6)\n",
    "    blob = gaussian_filter(blob, sigma=[sigma_x, sigma_y])\n",
    "    return blob <= blob.mean()"
   ]
  },
  {
   "cell_type": "code",
   "execution_count": 14,
   "id": "32e1eb04-4e29-460b-977d-bb31336402d5",
   "metadata": {},
   "outputs": [],
   "source": [
    "def generate_single_mask():\n",
    "    left_params, right_params = (\n",
    "        [generate_normal_params(num_samples=1, **conf_dict[part][side]) for part in ['h_center', 'v_len', 'h_len']] for side in ['left', 'right']\n",
    "    )\n",
    "    left_matrix, right_matrix = (generate_mask_part(*curr_params) for curr_params in [left_params, right_params])\n",
    "    final_mask = np.hstack((left_matrix, right_matrix))\n",
    "    return final_mask"
   ]
  },
  {
   "cell_type": "code",
   "execution_count": 15,
   "id": "7e43bb05-02cf-4953-a86c-888ad9e0cf53",
   "metadata": {},
   "outputs": [],
   "source": [
    "def generate_single_mask(left_prob=conf_dict['no_mask']['left'], right_prob=conf_dict['no_mask']['right']):\n",
    "    def get_matrix(prob, side):\n",
    "        if np.random.rand() < prob:\n",
    "            return true_mask\n",
    "        params = [generate_normal_params(num_samples=1, **conf_dict[part][side]) for part in ['h_center', 'v_len', 'h_len']]\n",
    "        return generate_mask_part(*params)\n",
    "    \n",
    "    left_matrix = get_matrix(left_prob, 'left')\n",
    "    right_matrix = get_matrix(right_prob, 'right')\n",
    "    return np.hstack((left_matrix, right_matrix))"
   ]
  },
  {
   "cell_type": "code",
   "execution_count": 16,
   "id": "5eab74f6-7177-4dfc-aae7-5be07bd2ba0e",
   "metadata": {},
   "outputs": [],
   "source": [
    "def save_masks_arrays(masks_lst, filename):\n",
    "    flattened_arrays = np.stack(masks_lst).reshape(-1)\n",
    "    np.packbits(flattened_arrays).tofile(filename)"
   ]
  },
  {
   "cell_type": "code",
   "execution_count": 17,
   "id": "ca9be0ec-13b0-470e-8052-13a528e885bb",
   "metadata": {},
   "outputs": [],
   "source": [
    "def load_and_reshape_masks(filename, num_masks):\n",
    "    flattened_data = np.unpackbits(np.fromfile(filename, dtype=np.uint8))\n",
    "    boolean_arrays = flattened_data.reshape((num_masks, X//2, Y))\n",
    "    vertically_stacked = np.tile(boolean_arrays, (1, 2, 1))\n",
    "    duplicated_arrays = np.repeat(vertically_stacked[:, np.newaxis, :, :], DIM[0], axis=1)\n",
    "    return duplicated_arrays"
   ]
  },
  {
   "cell_type": "markdown",
   "id": "e5b7cace-269c-4754-8fcf-5a7e78c66d53",
   "metadata": {
    "jp-MarkdownHeadingCollapsed": true
   },
   "source": [
    "# Generate and save Masks"
   ]
  },
  {
   "cell_type": "code",
   "execution_count": 18,
   "id": "8bccfc68-f678-4cda-a786-4f9462c5e09d",
   "metadata": {},
   "outputs": [],
   "source": [
    "def int_to_scaled_string(n):\n",
    "    suffixes = ['', 'K', 'M', 'B', 'T']\n",
    "    idx = max(0, min(len(suffixes) - 1, int((len(str(abs(n))) - 1) / 3)))\n",
    "    scaled = n / (1000 ** idx)\n",
    "    return f\"{scaled:.1f}{suffixes[idx]}\" if scaled % 1 else f\"{int(scaled)}{suffixes[idx]}\""
   ]
  },
  {
   "cell_type": "code",
   "execution_count": 19,
   "id": "7897ef8b-0317-43b1-80a6-5543f8753945",
   "metadata": {},
   "outputs": [],
   "source": [
    "num_masks = 1000000\n",
    "path = f'{int_to_scaled_string(num_masks)}_mask_arrays.dat'"
   ]
  },
  {
   "cell_type": "code",
   "execution_count": 21,
   "id": "5461c637-af5e-4d1e-b625-9f9e3471df22",
   "metadata": {},
   "outputs": [],
   "source": [
    "with tqdm(total=num_masks, desc=\"Generating masks\") as pbar:\n",
    "    masks_lst = Parallel(n_jobs=n_jobs)(\n",
    "        delayed(generate_single_mask)() for _ in range(num_masks)\n",
    "    )\n",
    "    pbar.update(1)"
   ]
  },
  {
   "cell_type": "code",
   "execution_count": 26,
   "id": "7a50190d-eebf-464c-bc6a-1f3970eb7ae7",
   "metadata": {},
   "outputs": [],
   "source": [
    "save_masks_arrays(masks_lst, path)"
   ]
  },
  {
   "cell_type": "code",
   "execution_count": 27,
   "id": "57a35b1e-88bb-4740-aaaa-801918688fc6",
   "metadata": {},
   "outputs": [],
   "source": [
    "loaded_data = load_and_reshape_masks(path, num_masks)"
   ]
  },
  {
   "cell_type": "code",
   "execution_count": 38,
   "id": "15d77128-3b54-4d2d-88ea-604f053eab8b",
   "metadata": {},
   "outputs": [
    {
     "data": {
      "image/png": "[encoded data removed]",
      "text/plain": [
       "<Figure size 640x480 with 1 Axes>"
      ]
     },
     "metadata": {},
     "output_type": "display_data"
    }
   ],
   "source": [
    "plot_boolean_iris(loaded_data[2][0])"
   ]
  },
  {
   "cell_type": "code",
   "execution_count": null,
   "id": "941612e3-92cf-464e-991f-f4e18ea88a5f",
   "metadata": {},
   "outputs": [],
   "source": []
  }
 ],
 "metadata": {
  "kernelspec": {
   "display_name": "Python 3 (ipykernel)",
   "language": "python",
   "name": "python3"
  },
  "language_info": {
   "codemirror_mode": {
    "name": "ipython",
    "version": 3
   },
   "file_extension": ".py",
   "mimetype": "text/x-python",
   "name": "python",
   "nbconvert_exporter": "python",
   "pygments_lexer": "ipython3",
   "version": "3.11.9"
  }
 },
 "nbformat": 4,
 "nbformat_minor": 5
}
